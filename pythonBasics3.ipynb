{
 "cells": [
  {
   "cell_type": "code",
   "execution_count": null,
   "metadata": {},
   "outputs": [],
   "source": [
    "In the text book “Think Python”, module 4 starts with these sentense: It introduces the turtle module, which allows you to create images using turtle graphics. The turtle module is included in most Python installations, but if you are running Python using PythonAnywhere, you won’t be able to run the turtle examples (at least you couldn’t when I wrote this). This means, when we using other python environment such as Jupyter Notebook, we can not run there codes successfully.\n",
    "\n",
    "But we can solve this problem by installing two modules.\n",
    "\n",
    "First step:\n",
    "\n",
    "$ pip install ipyturtle\n",
    "$ jupyter nbextension enable --py --sys-prefix ipyturtle\n",
    "Second step:\n",
    "\n",
    "$ git clone https://github.com/gkvoelkl/ipython-turtle-widget.git\n",
    "$ cd ipython-turtle-widget\n",
    "$ pip install -e .\n",
    "$ jupyter nbextension install --py --symlink --sys-prefix ipyturtle\n",
    "$ jupyter nbextension enable --py --sys-prefix ipyturtle\n",
    "Then you can run the turtle command when you testing the turtle coding. And you can see the sketch right below the cell.\n"
   ]
  },
  {
   "cell_type": "code",
   "execution_count": 3,
   "metadata": {},
   "outputs": [],
   "source": [
    "#drawing movie recomendation system"
   ]
  },
  {
   "cell_type": "code",
   "execution_count": null,
   "metadata": {},
   "outputs": [],
   "source": [
    "#file1in python idle \n",
    "import webbrowser\n",
    "class Movie:\n",
    "    def __init__(self, movie_name, movie_storyLine, movie_poster, movie_trailor):\n",
    "        self.title= movie_name\n",
    "        self.storyline = movie_storyLine\n",
    "        self.poster_image_url = movie_poster\n",
    "        self.trailer_youtube_url = movie_trailor\n",
    "    def show_trailor(self):\n",
    "        webbrowser.open(self.trailer_youtube_url)\n",
    "#save file\n"
   ]
  },
  {
   "cell_type": "code",
   "execution_count": null,
   "metadata": {},
   "outputs": [],
   "source": [
    "#file2 in python idle\n",
    "import media\n",
    "the_social_network = media.Movie(\"the social network\",\"the founders story\",\"https://en.wikipedia.org/wiki/The_Social_Network#/media/File:The_Social_Network_film_poster.png\", \"https://www.youtube.com/watch?v=lB95KLmpLR4\")\n",
    "print(the_social_network)\n",
    "the_social_network.show_trailor()\n",
    "\n",
    "\n",
    "    \n",
    "#save file"
   ]
  },
  {
   "cell_type": "code",
   "execution_count": null,
   "metadata": {},
   "outputs": [],
   "source": []
  }
 ],
 "metadata": {
  "kernelspec": {
   "display_name": "Python 3",
   "language": "python",
   "name": "python3"
  },
  "language_info": {
   "codemirror_mode": {
    "name": "ipython",
    "version": 3
   },
   "file_extension": ".py",
   "mimetype": "text/x-python",
   "name": "python",
   "nbconvert_exporter": "python",
   "pygments_lexer": "ipython3",
   "version": "3.7.0"
  }
 },
 "nbformat": 4,
 "nbformat_minor": 2
}
